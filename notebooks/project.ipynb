{
 "cells": [
  {
   "metadata": {},
   "cell_type": "markdown",
   "source": "# Práctica de API request",
   "id": "b0eb257da1b6c6bc"
  },
  {
   "cell_type": "code",
   "id": "initial_id",
   "metadata": {
    "collapsed": true,
    "ExecuteTime": {
     "end_time": "2025-09-13T21:36:22.604232Z",
     "start_time": "2025-09-13T21:36:22.602211Z"
    }
   },
   "source": [
    "import os\n",
    "from dotenv import load_dotenv"
   ],
   "outputs": [],
   "execution_count": 8
  },
  {
   "metadata": {
    "ExecuteTime": {
     "end_time": "2025-09-13T21:36:22.617130Z",
     "start_time": "2025-09-13T21:36:22.612535Z"
    }
   },
   "cell_type": "code",
   "source": [
    "load_dotenv()\n",
    "client_id = os.getenv(\"CLIENT_ID\")\n",
    "client_secret = os.getenv('CLIENT_SECRET')\n",
    "saludo = os.getenv('HOLA')\n",
    "\n",
    "print(saludo)"
   ],
   "id": "9dbdff5e6cd941d1",
   "outputs": [
    {
     "name": "stdout",
     "output_type": "stream",
     "text": [
      "None\n"
     ]
    }
   ],
   "execution_count": 9
  },
  {
   "metadata": {
    "ExecuteTime": {
     "end_time": "2025-09-13T21:36:22.645341Z",
     "start_time": "2025-09-13T21:36:22.638736Z"
    }
   },
   "cell_type": "code",
   "source": [
    "data = [\n",
    "    (0,'Nos Siguen Pegando Abajo',67,206720),\n",
    "(1,'Demoliendo Hoteles',66,135973),\n",
    "(2,'No Voy en Tren',63,181600),\n",
    "(3,'Promesas Sobre El Bidet',64,164360),\n",
    "(4,'Hablando a Tu Corazón',63,255266),\n",
    "(5,'No Me Dejan Salir',62,263200),\n",
    "(6,'Raros Peinados Nuevos',60,214760),\n",
    "(7,'Tu Amor',60,186466),\n",
    "(8,'Rezo por Vos',59,269053),\n",
    "(9,'Los Dinosaurios',57,208093)\n",
    "]\n",
    "\n",
    "songs = []\n",
    "for song in data:\n",
    "    song_dict = {'canción': song[1], 'popularidad': song[2], 'duración': song[3]}\n",
    "    songs.append(song_dict)\n",
    "\n",
    "songs"
   ],
   "id": "ef587075f068df4e",
   "outputs": [
    {
     "data": {
      "text/plain": [
       "[{'canción': 'Nos Siguen Pegando Abajo',\n",
       "  'popularidad': 67,\n",
       "  'duración': 206720},\n",
       " {'canción': 'Demoliendo Hoteles', 'popularidad': 66, 'duración': 135973},\n",
       " {'canción': 'No Voy en Tren', 'popularidad': 63, 'duración': 181600},\n",
       " {'canción': 'Promesas Sobre El Bidet', 'popularidad': 64, 'duración': 164360},\n",
       " {'canción': 'Hablando a Tu Corazón', 'popularidad': 63, 'duración': 255266},\n",
       " {'canción': 'No Me Dejan Salir', 'popularidad': 62, 'duración': 263200},\n",
       " {'canción': 'Raros Peinados Nuevos', 'popularidad': 60, 'duración': 214760},\n",
       " {'canción': 'Tu Amor', 'popularidad': 60, 'duración': 186466},\n",
       " {'canción': 'Rezo por Vos', 'popularidad': 59, 'duración': 269053},\n",
       " {'canción': 'Los Dinosaurios', 'popularidad': 57, 'duración': 208093}]"
      ]
     },
     "execution_count": 10,
     "metadata": {},
     "output_type": "execute_result"
    }
   ],
   "execution_count": 10
  },
  {
   "metadata": {},
   "cell_type": "markdown",
   "source": "Tarea 3 - Recuperar el top 10 de canciones de tu artista favorito (en este caso, No te va gustar), generando una lista de diccionarios que incluirán las claves 'song', 'popularity' y 'duration'.",
   "id": "f6b99b0ef78c6db2"
  },
  {
   "metadata": {
    "ExecuteTime": {
     "end_time": "2025-09-13T21:36:22.665799Z",
     "start_time": "2025-09-13T21:36:22.661581Z"
    }
   },
   "cell_type": "code",
   "source": [
    "import os\n",
    "from dotenv import load_dotenv\n",
    "\n",
    "# load the .env file variables\n",
    "load_dotenv()\n",
    "\n",
    "# Get credential values\n",
    "client_id = os.getenv(\"CLIENT_ID\")\n",
    "client_secret = os.getenv(\"CLIENT_SECRET\")"
   ],
   "id": "5857ce5694888b81",
   "outputs": [],
   "execution_count": 11
  },
  {
   "metadata": {
    "ExecuteTime": {
     "end_time": "2025-09-13T21:36:22.763628Z",
     "start_time": "2025-09-13T21:36:22.681947Z"
    }
   },
   "cell_type": "code",
   "source": [
    "import spotipy\n",
    "from spotipy.oauth2 import SpotifyClientCredentials\n",
    "\n",
    "auth_manager = SpotifyClientCredentials(client_id=client_id, client_secret=client_secret)\n",
    "spotify = spotipy.Spotify(auth_manager=auth_manager)"
   ],
   "id": "3217aa10ce44337",
   "outputs": [],
   "execution_count": 12
  },
  {
   "metadata": {
    "ExecuteTime": {
     "end_time": "2025-09-13T15:24:18.308516Z",
     "start_time": "2025-09-13T15:24:18.079080Z"
    }
   },
   "cell_type": "code",
   "source": [
    "# ID No te va gustar\n",
    "ARTIST_ID = \"4ZDoy7AWNgQVmX7T0u0B1j\"\n",
    "\n",
    "# Obtener top tracks\n",
    "top_tracks = spotify.artist_top_tracks(ARTIST_ID, COUNTRY=\"UY\")\n",
    "\n",
    "# Crear lista de diccionarios\n",
    "songs_list = []\n",
    "for track in top_tracks[\"tracks\"][:10]:  # solo top 10\n",
    "    song_info = {\n",
    "        \"song\": track[\"name\"],\n",
    "        \"popularity\": track[\"popularity\"],\n",
    "        \"duration\": f\"{track['duration_ms'] // 60000}:{(track['duration_ms'] // 1000) % 60:02d}\"\n",
    "    }\n",
    "    songs_list.append(song_info)\n",
    "\n",
    "# Mostrar resultado\n",
    "for i, song in enumerate(songs_list, start=1):\n",
    "    print(f\"{i}. {song}\")"
   ],
   "id": "bbadfc58f4407458",
   "outputs": [
    {
     "name": "stdout",
     "output_type": "stream",
     "text": [
      "1. {'song': 'A las Nueve', 'popularity': 71, 'duration': '3:27'}\n",
      "2. {'song': 'Tan Lejos', 'popularity': 70, 'duration': '4:58'}\n",
      "3. {'song': 'Ese Maldito Momento', 'popularity': 70, 'duration': '3:05'}\n",
      "4. {'song': 'Chau', 'popularity': 66, 'duration': '5:19'}\n",
      "5. {'song': 'A Las Nueve', 'popularity': 63, 'duration': '3:22'}\n",
      "6. {'song': 'Chau', 'popularity': 62, 'duration': '4:56'}\n",
      "7. {'song': 'Ángel Con Campera', 'popularity': 61, 'duration': '4:39'}\n",
      "8. {'song': 'No Te Imaginás', 'popularity': 59, 'duration': '3:31'}\n",
      "9. {'song': 'De Nada Sirve', 'popularity': 61, 'duration': '3:57'}\n",
      "10. {'song': 'El Error', 'popularity': 60, 'duration': '4:02'}\n"
     ]
    }
   ],
   "execution_count": 37
  }
 ],
 "metadata": {
  "kernelspec": {
   "display_name": "Python 3",
   "language": "python",
   "name": "python3"
  },
  "language_info": {
   "codemirror_mode": {
    "name": "ipython",
    "version": 2
   },
   "file_extension": ".py",
   "mimetype": "text/x-python",
   "name": "python",
   "nbconvert_exporter": "python",
   "pygments_lexer": "ipython2",
   "version": "2.7.6"
  }
 },
 "nbformat": 4,
 "nbformat_minor": 5
}
